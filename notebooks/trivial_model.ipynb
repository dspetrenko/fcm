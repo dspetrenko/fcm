{
 "cells": [
  {
   "cell_type": "code",
   "execution_count": 1,
   "id": "0cc9b6ac",
   "metadata": {},
   "outputs": [],
   "source": [
    "%load_ext autoreload\n",
    "%autoreload 2\n",
    "\n",
    "import os\n",
    "\n",
    "import torch\n",
    "import torch.nn.functional as F\n",
    "\n",
    "import numpy as np\n",
    "import pandas as pd\n",
    "import rasterio\n",
    "\n",
    "import glob\n",
    "\n",
    "%matplotlib inline\n",
    "import matplotlib.pyplot as plt\n",
    "from skimage import io\n",
    "import json\n",
    "\n",
    "from tqdm.auto import tqdm\n",
    "\n",
    "\n",
    "from pathlib import Path\n",
    "_src_path = Path(os.getcwd()).parent / 'src' \n",
    "\n",
    "import sys \n",
    "# print(sorted(sys.path))\n",
    "if _src_path.as_posix() not in sys.path: \n",
    "    sys.path.append(_src_path.as_posix())\n",
    "#     print(sorted(sys.path))\n",
    "\n",
    "\n",
    "\n",
    "from agbmfc.loading import read_image_tensor, \\\n",
    "                            get_chip_tensor, \\\n",
    "                            get_chip_files, \\\n",
    "                            chip_tensor_to_pixel_tensor, \\\n",
    "                            get_pixel_target_tensor, \\\n",
    "                            generate_processed_files\n",
    "\n",
    "from agbmfc.model import evaluate, TrivialPixelRegressor\n",
    "\n",
    "from agbmfc.dataset import PSSBatchDataset\n",
    "\n",
    "DATA_ROOT = r'/data/driven_data_bio_massters'"
   ]
  },
  {
   "cell_type": "markdown",
   "id": "b4287483",
   "metadata": {},
   "source": [
    "### Dataset"
   ]
  },
  {
   "cell_type": "code",
   "execution_count": 2,
   "id": "b3c396fa",
   "metadata": {},
   "outputs": [],
   "source": [
    "with open(r'../data/md/chips_from_partition.json') as fd: \n",
    "    chips_from_split = json.load(fd)"
   ]
  },
  {
   "cell_type": "code",
   "execution_count": 3,
   "id": "a66f40d5",
   "metadata": {},
   "outputs": [
    {
     "data": {
      "text/plain": [
       "(1738, 6951)"
      ]
     },
     "execution_count": 3,
     "metadata": {},
     "output_type": "execute_result"
    }
   ],
   "source": [
    "len(chips_from_split['dev']), len(chips_from_split['train'])"
   ]
  },
  {
   "cell_type": "code",
   "execution_count": 5,
   "id": "ee3b5bd2",
   "metadata": {},
   "outputs": [],
   "source": [
    "# batch_dataset = PSSBatchDataset(data_dir=rf'../data/processed/', _limit=1024)\n",
    "train_dataset = PSSBatchDataset(data_dir=r'../data/processed/train/',)\n",
    "val_dataset = PSSBatchDataset(data_dir=r'../data/processed/val/',)"
   ]
  },
  {
   "cell_type": "code",
   "execution_count": 6,
   "id": "62aaf8c7",
   "metadata": {},
   "outputs": [],
   "source": [
    "train_dataloader = torch.utils.data.DataLoader(train_dataset)\n",
    "val_dataloader = torch.utils.data.DataLoader(val_dataset)"
   ]
  },
  {
   "cell_type": "code",
   "execution_count": 7,
   "id": "925c1ec2",
   "metadata": {},
   "outputs": [
    {
     "data": {
      "text/plain": [
       "63.287669991629464"
      ]
     },
     "execution_count": 7,
     "metadata": {},
     "output_type": "execute_result"
    }
   ],
   "source": [
    "target_accum = 0\n",
    "target_count = 0\n",
    "for batch_x, batch_target in train_dataloader:\n",
    "    target_accum += batch_target[0][:, 0].sum().item()\n",
    "    target_count += len(batch_target[0][:, 0])\n",
    "\n",
    "mean_train_target = target_accum/ target_count\n",
    "mean_train_target\n",
    "    "
   ]
  },
  {
   "cell_type": "code",
   "execution_count": 8,
   "id": "5fba4751",
   "metadata": {},
   "outputs": [
    {
     "data": {
      "text/plain": [
       "tensor([1.2000, 1.2000])"
      ]
     },
     "execution_count": 8,
     "metadata": {},
     "output_type": "execute_result"
    }
   ],
   "source": [
    "(torch.zeros((2, 1)) + 1.2)[:, 0]"
   ]
  },
  {
   "cell_type": "code",
   "execution_count": 9,
   "id": "45c92544",
   "metadata": {},
   "outputs": [],
   "source": [
    "device = torch.device(\"cuda:0\") if torch.cuda.is_available() else torch.device(\"cpu\")\n",
    "device = torch.device(\"cpu\")"
   ]
  },
  {
   "cell_type": "code",
   "execution_count": 10,
   "id": "08eff6de",
   "metadata": {
    "scrolled": false
   },
   "outputs": [
    {
     "data": {
      "application/vnd.jupyter.widget-view+json": {
       "model_id": "7a6ac40a76c6488590894eca8f2ea38c",
       "version_major": 2,
       "version_minor": 0
      },
      "text/plain": [
       "evaluation:   0%|          | 0/1738 [00:00<?, ?it/s]"
      ]
     },
     "metadata": {},
     "output_type": "display_data"
    },
    {
     "data": {
      "text/plain": [
       "55.145504"
      ]
     },
     "execution_count": 10,
     "metadata": {},
     "output_type": "execute_result"
    }
   ],
   "source": [
    "model = TrivialPixelRegressor(prediction=mean_train_target)\n",
    "model.to(device)\n",
    "\n",
    "evaluate(model, val_dataloader, device)"
   ]
  },
  {
   "cell_type": "code",
   "execution_count": null,
   "id": "95b16b4a",
   "metadata": {},
   "outputs": [],
   "source": []
  }
 ],
 "metadata": {
  "kernelspec": {
   "display_name": "Python 3 (ipykernel)",
   "language": "python",
   "name": "python3"
  },
  "language_info": {
   "codemirror_mode": {
    "name": "ipython",
    "version": 3
   },
   "file_extension": ".py",
   "mimetype": "text/x-python",
   "name": "python",
   "nbconvert_exporter": "python",
   "pygments_lexer": "ipython3",
   "version": "3.9.13"
  }
 },
 "nbformat": 4,
 "nbformat_minor": 5
}
